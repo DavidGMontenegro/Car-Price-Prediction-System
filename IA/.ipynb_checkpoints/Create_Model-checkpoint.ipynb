{
 "cells": [
  {
   "cell_type": "code",
   "execution_count": 1,
   "id": "32400ebd-3b40-49af-b593-783401bad643",
   "metadata": {},
   "outputs": [
    {
     "data": {
      "text/plain": [
       "['random_forest_model.joblib']"
      ]
     },
     "execution_count": 1,
     "metadata": {},
     "output_type": "execute_result"
    }
   ],
   "source": [
    "import pandas as pd\n",
    "from xgboost import XGBRegressor\n",
    "from joblib import dump\n",
    "\n",
    "# Cargar los datos desde un archivo CSV\n",
    "df = pd.read_csv(\"car-dataset/Car details v4.csv\")\n",
    "\n",
    "# Seleccionar características y variable objetivo\n",
    "desired_columns = ['Year', 'Kilometer', 'Fuel Type', 'Transmission', 'Owner',\n",
    "                   'Make', 'Model', 'Color', 'Seller Type', 'Engine',\n",
    "                   'Drivetrain', 'Length', 'Width', 'Height', 'Seating Capacity',\n",
    "                   'Fuel Tank Capacity', 'Price']\n",
    "\n",
    "# Eliminar filas con valores faltantes\n",
    "df.dropna(subset=desired_columns, inplace=True)\n",
    "\n",
    "# Dividir características y variable objetivo\n",
    "X = df.drop(columns=['Price'])\n",
    "y = df['Price']\n",
    "\n",
    "# Codificar características categóricas\n",
    "X_encoded = pd.get_dummies(X)\n",
    "\n",
    "# Dividir los datos en conjuntos de entrenamiento y prueba\n",
    "from sklearn.model_selection import train_test_split\n",
    "X_train, X_test, y_train, y_test = train_test_split(X_encoded, y, test_size=0.2, random_state=42)\n",
    "\n",
    "# Entrenar un modelo de regresión con XGBoost\n",
    "model = XGBRegressor()\n",
    "model.fit(X_train, y_train)\n",
    "\n",
    "# Guardar el modelo entrenado\n",
    "dump(model, 'xgboost_model.joblib')\n"
   ]
  },
  {
   "cell_type": "code",
   "execution_count": null,
   "id": "7efa6a85-92d6-40b4-bac4-0f8d03fb8741",
   "metadata": {},
   "outputs": [],
   "source": []
  }
 ],
 "metadata": {
  "kernelspec": {
   "display_name": "Python 3 (ipykernel)",
   "language": "python",
   "name": "python3"
  },
  "language_info": {
   "codemirror_mode": {
    "name": "ipython",
    "version": 3
   },
   "file_extension": ".py",
   "mimetype": "text/x-python",
   "name": "python",
   "nbconvert_exporter": "python",
   "pygments_lexer": "ipython3",
   "version": "3.11.7"
  }
 },
 "nbformat": 4,
 "nbformat_minor": 5
}
